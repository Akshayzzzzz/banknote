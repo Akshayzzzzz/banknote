{
 "cells": [
  {
   "cell_type": "markdown",
   "metadata": {},
   "source": [
    "IRIS"
   ]
  },
  {
   "cell_type": "code",
   "execution_count": 30,
   "metadata": {},
   "outputs": [
    {
     "data": {
      "text/html": [
       "<div>\n",
       "<style scoped>\n",
       "    .dataframe tbody tr th:only-of-type {\n",
       "        vertical-align: middle;\n",
       "    }\n",
       "\n",
       "    .dataframe tbody tr th {\n",
       "        vertical-align: top;\n",
       "    }\n",
       "\n",
       "    .dataframe thead th {\n",
       "        text-align: right;\n",
       "    }\n",
       "</style>\n",
       "<table border=\"1\" class=\"dataframe\">\n",
       "  <thead>\n",
       "    <tr style=\"text-align: right;\">\n",
       "      <th></th>\n",
       "      <th>0</th>\n",
       "      <th>1</th>\n",
       "      <th>2</th>\n",
       "      <th>3</th>\n",
       "    </tr>\n",
       "  </thead>\n",
       "  <tbody>\n",
       "    <tr>\n",
       "      <th>0</th>\n",
       "      <td>-0.900681</td>\n",
       "      <td>1.019004</td>\n",
       "      <td>-1.340227</td>\n",
       "      <td>-1.315444</td>\n",
       "    </tr>\n",
       "    <tr>\n",
       "      <th>1</th>\n",
       "      <td>-1.143017</td>\n",
       "      <td>-0.131979</td>\n",
       "      <td>-1.340227</td>\n",
       "      <td>-1.315444</td>\n",
       "    </tr>\n",
       "    <tr>\n",
       "      <th>2</th>\n",
       "      <td>-1.385353</td>\n",
       "      <td>0.328414</td>\n",
       "      <td>-1.397064</td>\n",
       "      <td>-1.315444</td>\n",
       "    </tr>\n",
       "    <tr>\n",
       "      <th>3</th>\n",
       "      <td>-1.506521</td>\n",
       "      <td>0.098217</td>\n",
       "      <td>-1.283389</td>\n",
       "      <td>-1.315444</td>\n",
       "    </tr>\n",
       "    <tr>\n",
       "      <th>4</th>\n",
       "      <td>-1.021849</td>\n",
       "      <td>1.249201</td>\n",
       "      <td>-1.340227</td>\n",
       "      <td>-1.315444</td>\n",
       "    </tr>\n",
       "    <tr>\n",
       "      <th>...</th>\n",
       "      <td>...</td>\n",
       "      <td>...</td>\n",
       "      <td>...</td>\n",
       "      <td>...</td>\n",
       "    </tr>\n",
       "    <tr>\n",
       "      <th>145</th>\n",
       "      <td>1.038005</td>\n",
       "      <td>-0.131979</td>\n",
       "      <td>0.819596</td>\n",
       "      <td>1.448832</td>\n",
       "    </tr>\n",
       "    <tr>\n",
       "      <th>146</th>\n",
       "      <td>0.553333</td>\n",
       "      <td>-1.282963</td>\n",
       "      <td>0.705921</td>\n",
       "      <td>0.922303</td>\n",
       "    </tr>\n",
       "    <tr>\n",
       "      <th>147</th>\n",
       "      <td>0.795669</td>\n",
       "      <td>-0.131979</td>\n",
       "      <td>0.819596</td>\n",
       "      <td>1.053935</td>\n",
       "    </tr>\n",
       "    <tr>\n",
       "      <th>148</th>\n",
       "      <td>0.432165</td>\n",
       "      <td>0.788808</td>\n",
       "      <td>0.933271</td>\n",
       "      <td>1.448832</td>\n",
       "    </tr>\n",
       "    <tr>\n",
       "      <th>149</th>\n",
       "      <td>0.068662</td>\n",
       "      <td>-0.131979</td>\n",
       "      <td>0.762758</td>\n",
       "      <td>0.790671</td>\n",
       "    </tr>\n",
       "  </tbody>\n",
       "</table>\n",
       "<p>150 rows × 4 columns</p>\n",
       "</div>"
      ],
      "text/plain": [
       "            0         1         2         3\n",
       "0   -0.900681  1.019004 -1.340227 -1.315444\n",
       "1   -1.143017 -0.131979 -1.340227 -1.315444\n",
       "2   -1.385353  0.328414 -1.397064 -1.315444\n",
       "3   -1.506521  0.098217 -1.283389 -1.315444\n",
       "4   -1.021849  1.249201 -1.340227 -1.315444\n",
       "..        ...       ...       ...       ...\n",
       "145  1.038005 -0.131979  0.819596  1.448832\n",
       "146  0.553333 -1.282963  0.705921  0.922303\n",
       "147  0.795669 -0.131979  0.819596  1.053935\n",
       "148  0.432165  0.788808  0.933271  1.448832\n",
       "149  0.068662 -0.131979  0.762758  0.790671\n",
       "\n",
       "[150 rows x 4 columns]"
      ]
     },
     "execution_count": 30,
     "metadata": {},
     "output_type": "execute_result"
    }
   ],
   "source": [
    "from tensorflow.keras import Sequential\n",
    "import pandas as pd\n",
    "import numpy as np\n",
    "import math\n",
    "from tensorflow.keras.layers import Flatten,Dense\n",
    "from tensorflow.keras.optimizers import Adam\n",
    "from tensorflow.keras.losses import SparseCategoricalCrossentropy\n",
    "import tensorflow\n",
    "from sklearn.preprocessing import StandardScaler\n",
    "from keras.models import Sequential\n",
    "from keras.layers import Dense\n",
    "from keras.layers import Activation\n",
    "from keras import backend as K\n",
    "from keras.utils.generic_utils import get_custom_objects\n",
    "from sklearn.datasets import load_iris\n",
    "\n",
    "iris=load_iris()\n",
    "x=iris.data\n",
    "y=iris.target\n",
    "data=pd.DataFrame(x)\n",
    "\n",
    "scl=StandardScaler()\n",
    "data[0]=scl.fit_transform(data[[0]])\n",
    "data[1]=scl.fit_transform(data[[1]])\n",
    "data[2]=scl.fit_transform(data[[2]])\n",
    "data[3]=scl.fit_transform(data[[3]])\n",
    "\n",
    "data"
   ]
  },
  {
   "cell_type": "markdown",
   "metadata": {},
   "source": [
    "CUSTOM ACTIVATION FUNCTION =>K0+K1X"
   ]
  },
  {
   "cell_type": "code",
   "execution_count": 31,
   "metadata": {},
   "outputs": [
    {
     "name": "stdout",
     "output_type": "stream",
     "text": [
      "Model: \"sequential_10\"\n",
      "_________________________________________________________________\n",
      "Layer (type)                 Output Shape              Param #   \n",
      "=================================================================\n",
      "dense_19 (Dense)             (None, 1000)              5000      \n",
      "_________________________________________________________________\n",
      "dense_20 (Dense)             (None, 1000)              1001000   \n",
      "_________________________________________________________________\n",
      "dense_21 (Dense)             (None, 3)                 3003      \n",
      "=================================================================\n",
      "Total params: 1,009,003\n",
      "Trainable params: 1,009,003\n",
      "Non-trainable params: 0\n",
      "_________________________________________________________________\n"
     ]
    }
   ],
   "source": [
    "def custom_activation(x):\n",
    "    for i in range(len(data)):\n",
    "        if len(data)*(2/3)<=math.e**i:\n",
    "            k0=math.e\n",
    "            k1=(k0**(i-1)*2)\n",
    "            break\n",
    "    return (k1*x)+k0\n",
    "\n",
    "get_custom_objects().update({'custom_activation': Activation(custom_activation)})\n",
    "\n",
    "model = Sequential()\n",
    "\n",
    "model.add(Dense(1000, input_dim=4))\n",
    "model.add(Dense(1000,activation='custom_activation'))\n",
    "model.add(Dense(3,activation='softmax'))\n",
    "model.summary()"
   ]
  },
  {
   "cell_type": "code",
   "execution_count": 32,
   "metadata": {},
   "outputs": [],
   "source": [
    "from sklearn.model_selection import train_test_split \n",
    "xtrain,xtest,ytrain,ytest=train_test_split(x,y,test_size=.25,random_state=1)"
   ]
  },
  {
   "cell_type": "code",
   "execution_count": 33,
   "metadata": {},
   "outputs": [
    {
     "name": "stdout",
     "output_type": "stream",
     "text": [
      "Epoch 1/30\n",
      "1/1 [==============================] - 1s 1s/step - loss: 5.3725 - accuracy: 0.4196 - val_loss: 36.8153 - val_accuracy: 0.5263\n",
      "Epoch 2/30\n",
      "1/1 [==============================] - 0s 110ms/step - loss: 34.3201 - accuracy: 0.6161 - val_loss: 32.7435 - val_accuracy: 0.6316\n",
      "Epoch 3/30\n",
      "1/1 [==============================] - 0s 104ms/step - loss: 23.5862 - accuracy: 0.7679 - val_loss: 24.0372 - val_accuracy: 0.7368\n",
      "Epoch 4/30\n",
      "1/1 [==============================] - 0s 118ms/step - loss: 13.4441 - accuracy: 0.8036 - val_loss: 15.7691 - val_accuracy: 0.8158\n",
      "Epoch 5/30\n",
      "1/1 [==============================] - 0s 110ms/step - loss: 7.2425 - accuracy: 0.8929 - val_loss: 10.2773 - val_accuracy: 0.8421\n",
      "Epoch 6/30\n",
      "1/1 [==============================] - 0s 107ms/step - loss: 11.1145 - accuracy: 0.8661 - val_loss: 9.9959 - val_accuracy: 0.8421\n",
      "Epoch 7/30\n",
      "1/1 [==============================] - 0s 104ms/step - loss: 15.0458 - accuracy: 0.8482 - val_loss: 9.3891 - val_accuracy: 0.8684\n",
      "Epoch 8/30\n",
      "1/1 [==============================] - 0s 107ms/step - loss: 11.1714 - accuracy: 0.8750 - val_loss: 10.4343 - val_accuracy: 0.8158\n",
      "Epoch 9/30\n",
      "1/1 [==============================] - 0s 103ms/step - loss: 5.8878 - accuracy: 0.9107 - val_loss: 13.2084 - val_accuracy: 0.8158\n",
      "Epoch 10/30\n",
      "1/1 [==============================] - 0s 116ms/step - loss: 5.4990 - accuracy: 0.9107 - val_loss: 14.6616 - val_accuracy: 0.7895\n",
      "Epoch 11/30\n",
      "1/1 [==============================] - 0s 118ms/step - loss: 6.1896 - accuracy: 0.9018 - val_loss: 14.2912 - val_accuracy: 0.7895\n",
      "Epoch 12/30\n",
      "1/1 [==============================] - 0s 110ms/step - loss: 7.0160 - accuracy: 0.8661 - val_loss: 11.8792 - val_accuracy: 0.8158\n",
      "Epoch 13/30\n",
      "1/1 [==============================] - 0s 113ms/step - loss: 6.3269 - accuracy: 0.8750 - val_loss: 8.8939 - val_accuracy: 0.7632\n",
      "Epoch 14/30\n",
      "1/1 [==============================] - 0s 107ms/step - loss: 4.5711 - accuracy: 0.8929 - val_loss: 5.5754 - val_accuracy: 0.8421\n",
      "Epoch 15/30\n",
      "1/1 [==============================] - 0s 107ms/step - loss: 2.6206 - accuracy: 0.9286 - val_loss: 2.8318 - val_accuracy: 0.8947\n",
      "Epoch 16/30\n",
      "1/1 [==============================] - 0s 109ms/step - loss: 1.4787 - accuracy: 0.9464 - val_loss: 2.7712 - val_accuracy: 0.8684\n",
      "Epoch 17/30\n",
      "1/1 [==============================] - 0s 118ms/step - loss: 1.8104 - accuracy: 0.9196 - val_loss: 2.4008 - val_accuracy: 0.8947\n",
      "Epoch 18/30\n",
      "1/1 [==============================] - 0s 120ms/step - loss: 2.5150 - accuracy: 0.9018 - val_loss: 0.8591 - val_accuracy: 0.9211\n",
      "Epoch 19/30\n",
      "1/1 [==============================] - 0s 122ms/step - loss: 1.0736 - accuracy: 0.9554 - val_loss: 0.4285 - val_accuracy: 0.9737\n",
      "Epoch 20/30\n",
      "1/1 [==============================] - 0s 112ms/step - loss: 0.2403 - accuracy: 0.9643 - val_loss: 0.5052 - val_accuracy: 0.9474\n",
      "Epoch 21/30\n",
      "1/1 [==============================] - 0s 107ms/step - loss: 0.4028 - accuracy: 0.9732 - val_loss: 0.6907 - val_accuracy: 0.9474\n",
      "Epoch 22/30\n",
      "1/1 [==============================] - 0s 121ms/step - loss: 0.8152 - accuracy: 0.9554 - val_loss: 0.7796 - val_accuracy: 0.9737\n",
      "Epoch 23/30\n",
      "1/1 [==============================] - 0s 114ms/step - loss: 1.2205 - accuracy: 0.9286 - val_loss: 0.7091 - val_accuracy: 0.9737\n",
      "Epoch 24/30\n",
      "1/1 [==============================] - 0s 108ms/step - loss: 1.1499 - accuracy: 0.9196 - val_loss: 0.4800 - val_accuracy: 0.9737\n",
      "Epoch 25/30\n",
      "1/1 [==============================] - 0s 106ms/step - loss: 1.0837 - accuracy: 0.9196 - val_loss: 0.2470 - val_accuracy: 0.9737\n",
      "Epoch 26/30\n",
      "1/1 [==============================] - 0s 113ms/step - loss: 1.0341 - accuracy: 0.9286 - val_loss: 0.1741 - val_accuracy: 0.9737\n",
      "Epoch 27/30\n",
      "1/1 [==============================] - 0s 112ms/step - loss: 0.4635 - accuracy: 0.9554 - val_loss: 0.1285 - val_accuracy: 0.9737\n",
      "Epoch 28/30\n",
      "1/1 [==============================] - 0s 111ms/step - loss: 0.2522 - accuracy: 0.9732 - val_loss: 0.1142 - val_accuracy: 0.9474\n",
      "Epoch 29/30\n",
      "1/1 [==============================] - 0s 113ms/step - loss: 0.3966 - accuracy: 0.9732 - val_loss: 0.1834 - val_accuracy: 0.9737\n",
      "Epoch 30/30\n",
      "1/1 [==============================] - 0s 116ms/step - loss: 0.4043 - accuracy: 0.9732 - val_loss: 0.2527 - val_accuracy: 0.9737\n"
     ]
    }
   ],
   "source": [
    "import pandas as pd\n",
    "model.compile(optimizer=Adam(),loss=SparseCategoricalCrossentropy(),metrics=[\"accuracy\"])\n",
    "t_history=model.fit(xtrain,ytrain,batch_size=300,epochs=30,validation_data=(xtest,ytest))"
   ]
  },
  {
   "cell_type": "code",
   "execution_count": 34,
   "metadata": {},
   "outputs": [
    {
     "data": {
      "text/plain": [
       "<matplotlib.legend.Legend at 0x1822fa7c2b0>"
      ]
     },
     "execution_count": 34,
     "metadata": {},
     "output_type": "execute_result"
    },
    {
     "data": {
      "image/png": "[encoded data removed]",
      "text/plain": [
       "<Figure size 432x288 with 1 Axes>"
      ]
     },
     "metadata": {
      "needs_background": "light"
     },
     "output_type": "display_data"
    }
   ],
   "source": [
    "from matplotlib import pyplot as plt\n",
    "h_data=t_history.history\n",
    "plt.plot(h_data['accuracy'],label='accuracy')\n",
    "plt.plot(h_data['val_accuracy'],label='val_accuracy')\n",
    "plt.xlabel('epochs')\n",
    "plt.ylabel('accuracy')\n",
    "plt.legend()"
   ]
  },
  {
   "cell_type": "code",
   "execution_count": 35,
   "metadata": {},
   "outputs": [
    {
     "data": {
      "text/plain": [
       "<matplotlib.legend.Legend at 0x1822fe47cd0>"
      ]
     },
     "execution_count": 35,
     "metadata": {},
     "output_type": "execute_result"
    },
    {
     "data": {
      "image/png": "[encoded data removed]",
      "text/plain": [
       "<Figure size 432x288 with 1 Axes>"
      ]
     },
     "metadata": {
      "needs_background": "light"
     },
     "output_type": "display_data"
    }
   ],
   "source": [
    "from matplotlib import pyplot as plt\n",
    "plt.plot(h_data['loss'],label='loss')\n",
    "plt.plot(h_data['val_loss'],label='val_loss')\n",
    "plt.xlabel('epochs')\n",
    "plt.ylabel('loss value')\n",
    "plt.legend()"
   ]
  },
  {
   "cell_type": "markdown",
   "metadata": {},
   "source": [
    "MNIST "
   ]
  },
  {
   "cell_type": "code",
   "execution_count": 71,
   "metadata": {},
   "outputs": [
    {
     "name": "stdout",
     "output_type": "stream",
     "text": [
      "1\n",
      "600/600 [==============================] - 13s 22ms/step - loss: 100.4618 - accuracy: 0.7083 - val_loss: 24.6783 - val_accuracy: 0.7580\n",
      "11\n",
      "600/600 [==============================] - 15s 25ms/step - loss: 8.1959 - accuracy: 0.7016 - val_loss: 2.8207 - val_accuracy: 0.7537\n",
      "21\n",
      "600/600 [==============================] - 16s 25ms/step - loss: 4.7455 - accuracy: 0.7123 - val_loss: 1.2812 - val_accuracy: 0.7649\n",
      "31\n",
      "600/600 [==============================] - 15s 25ms/step - loss: 3.7554 - accuracy: 0.7074 - val_loss: 0.9153 - val_accuracy: 0.7859\n",
      "41\n",
      "600/600 [==============================] - 16s 26ms/step - loss: 2.4594 - accuracy: 0.7252 - val_loss: 0.7783 - val_accuracy: 0.7944\n",
      "51\n",
      "600/600 [==============================] - 17s 27ms/step - loss: 2.2108 - accuracy: 0.7152 - val_loss: 0.6333 - val_accuracy: 0.8183\n",
      "61\n",
      "600/600 [==============================] - 16s 26ms/step - loss: 1.6202 - accuracy: 0.7295 - val_loss: 0.6761 - val_accuracy: 0.7967\n",
      "71\n",
      "600/600 [==============================] - 16s 26ms/step - loss: 1.5397 - accuracy: 0.7274 - val_loss: 0.6023 - val_accuracy: 0.8039\n",
      "81\n",
      "600/600 [==============================] - 17s 27ms/step - loss: 1.2599 - accuracy: 0.7286 - val_loss: 0.6188 - val_accuracy: 0.8017\n",
      "91\n",
      "600/600 [==============================] - 17s 28ms/step - loss: 1.0681 - accuracy: 0.7438 - val_loss: 0.5906 - val_accuracy: 0.8116\n",
      "101\n",
      "600/600 [==============================] - 18s 28ms/step - loss: 1.0614 - accuracy: 0.7363 - val_loss: 0.5629 - val_accuracy: 0.8091\n",
      "111\n",
      "600/600 [==============================] - 18s 28ms/step - loss: 1.0598 - accuracy: 0.7410 - val_loss: 0.5699 - val_accuracy: 0.8127\n",
      "121\n",
      "600/600 [==============================] - 17s 28ms/step - loss: 0.9839 - accuracy: 0.7474 - val_loss: 0.5044 - val_accuracy: 0.8302\n",
      "131\n",
      "600/600 [==============================] - 18s 28ms/step - loss: 0.9281 - accuracy: 0.7469 - val_loss: 0.5902 - val_accuracy: 0.8084\n",
      "141\n",
      "600/600 [==============================] - 17s 28ms/step - loss: 0.8308 - accuracy: 0.7525 - val_loss: 0.5480 - val_accuracy: 0.8100\n",
      "151\n",
      "600/600 [==============================] - 18s 29ms/step - loss: 0.8771 - accuracy: 0.7463 - val_loss: 0.5697 - val_accuracy: 0.8080\n",
      "161\n",
      "600/600 [==============================] - 18s 29ms/step - loss: 0.8506 - accuracy: 0.7546 - val_loss: 0.5188 - val_accuracy: 0.8209\n",
      "171\n",
      "600/600 [==============================] - 18s 30ms/step - loss: 0.7910 - accuracy: 0.7513 - val_loss: 0.5372 - val_accuracy: 0.8155\n",
      "181\n",
      "600/600 [==============================] - 18s 29ms/step - loss: 0.7932 - accuracy: 0.7535 - val_loss: 0.5010 - val_accuracy: 0.8290\n",
      "191\n",
      "600/600 [==============================] - 18s 29ms/step - loss: 0.8223 - accuracy: 0.7479 - val_loss: 0.6669 - val_accuracy: 0.7589\n",
      "201\n",
      "600/600 [==============================] - 18s 30ms/step - loss: 0.7419 - accuracy: 0.7584 - val_loss: 0.5579 - val_accuracy: 0.8153\n",
      "211\n",
      "600/600 [==============================] - 19s 30ms/step - loss: 0.7477 - accuracy: 0.7596 - val_loss: 0.5716 - val_accuracy: 0.8133\n",
      "221\n",
      "600/600 [==============================] - 19s 30ms/step - loss: 0.7594 - accuracy: 0.7543 - val_loss: 0.5096 - val_accuracy: 0.8281\n",
      "231\n",
      "600/600 [==============================] - 18s 30ms/step - loss: 0.7711 - accuracy: 0.7528 - val_loss: 0.5551 - val_accuracy: 0.8048\n",
      "241\n",
      "600/600 [==============================] - 19s 29ms/step - loss: 0.7550 - accuracy: 0.7541 - val_loss: 0.4931 - val_accuracy: 0.8284\n",
      "251\n",
      "600/600 [==============================] - 19s 30ms/step - loss: 0.7365 - accuracy: 0.7592 - val_loss: 0.5340 - val_accuracy: 0.8119\n"
     ]
    }
   ],
   "source": [
    "import tensorflow\n",
    "import pandas as pd\n",
    "from tensorflow.keras import Sequential\n",
    "from tensorflow.keras.layers import Flatten,Dense\n",
    "from tensorflow.keras.optimizers import Adam\n",
    "from tensorflow.keras.losses import SparseCategoricalCrossentropy\n",
    "from tensorflow.keras.datasets import fashion_mnist\n",
    "data=fashion_mnist.load_data()\n",
    "\n",
    "((xtrain,ytrain),(xtest,ytest))=data\n",
    "\n",
    "for i in range(1,255,10):\n",
    "    def custom_activation(x):\n",
    "        k1=1/i\n",
    "        k0=0\n",
    "        return (k1*x)+k0\n",
    "\n",
    "    get_custom_objects().update({'custom_activation': Activation(custom_activation)})\n",
    "    print(i)\n",
    "\n",
    "    model=Sequential()\n",
    "    model.add(Flatten(input_shape=(28,28,)))\n",
    "    model.add(Dense(1000,activation='custom_activation'))\n",
    "    model.add(Dense(10,activation='softmax'))\n",
    "    model.compile(optimizer=Adam(),loss=SparseCategoricalCrossentropy(),metrics=[\"accuracy\"])\n",
    "    t_history=model.fit(xtrain,ytrain,batch_size=100,epochs=1,validation_data=(xtest,ytest))"
   ]
  },
  {
   "cell_type": "code",
   "execution_count": 75,
   "metadata": {},
   "outputs": [
    {
     "name": "stdout",
     "output_type": "stream",
     "text": [
      "200\n",
      "600/600 [==============================] - 14s 22ms/step - loss: 0.7515 - accuracy: 0.7584 - val_loss: 0.5446 - val_accuracy: 0.8173\n",
      "202\n",
      "600/600 [==============================] - 15s 24ms/step - loss: 0.7705 - accuracy: 0.7552 - val_loss: 0.5396 - val_accuracy: 0.8100\n",
      "204\n",
      "600/600 [==============================] - 15s 25ms/step - loss: 0.7891 - accuracy: 0.7530 - val_loss: 0.5476 - val_accuracy: 0.8149\n",
      "206\n",
      "600/600 [==============================] - 16s 25ms/step - loss: 0.7610 - accuracy: 0.7538 - val_loss: 0.5327 - val_accuracy: 0.8144\n",
      "208\n",
      "600/600 [==============================] - 16s 26ms/step - loss: 0.7968 - accuracy: 0.7587 - val_loss: 0.5055 - val_accuracy: 0.8241\n",
      "210\n",
      "600/600 [==============================] - 16s 26ms/step - loss: 0.7496 - accuracy: 0.7583 - val_loss: 0.5852 - val_accuracy: 0.7884\n",
      "212\n",
      "600/600 [==============================] - 16s 26ms/step - loss: 0.7742 - accuracy: 0.7511 - val_loss: 0.4909 - val_accuracy: 0.8324\n",
      "214\n",
      "600/600 [==============================] - 16s 26ms/step - loss: 0.7743 - accuracy: 0.7518 - val_loss: 0.5737 - val_accuracy: 0.8098\n",
      "216\n",
      "600/600 [==============================] - 17s 27ms/step - loss: 0.7417 - accuracy: 0.7572 - val_loss: 0.5390 - val_accuracy: 0.8092\n",
      "218\n",
      "600/600 [==============================] - 17s 27ms/step - loss: 0.7351 - accuracy: 0.7570 - val_loss: 0.5109 - val_accuracy: 0.8227\n",
      "220\n",
      "600/600 [==============================] - 17s 27ms/step - loss: 0.7777 - accuracy: 0.7532 - val_loss: 0.5368 - val_accuracy: 0.8125\n",
      "222\n",
      "600/600 [==============================] - 17s 28ms/step - loss: 0.7232 - accuracy: 0.7604 - val_loss: 0.5338 - val_accuracy: 0.8108\n",
      "224\n",
      "600/600 [==============================] - 17s 28ms/step - loss: 0.7820 - accuracy: 0.7535 - val_loss: 0.5267 - val_accuracy: 0.8192\n",
      "226\n",
      "600/600 [==============================] - 17s 28ms/step - loss: 0.7661 - accuracy: 0.7497 - val_loss: 0.5462 - val_accuracy: 0.8123\n",
      "228\n",
      "600/600 [==============================] - 18s 28ms/step - loss: 0.7316 - accuracy: 0.7575 - val_loss: 0.5254 - val_accuracy: 0.8191\n",
      "230\n",
      "600/600 [==============================] - 17s 28ms/step - loss: 0.7142 - accuracy: 0.7654 - val_loss: 0.5658 - val_accuracy: 0.7967\n",
      "232\n",
      "600/600 [==============================] - 18s 30ms/step - loss: 0.7784 - accuracy: 0.7499 - val_loss: 0.5425 - val_accuracy: 0.8096\n",
      "234\n",
      "600/600 [==============================] - 18s 29ms/step - loss: 0.7223 - accuracy: 0.7610 - val_loss: 0.5068 - val_accuracy: 0.8275\n",
      "236\n",
      "600/600 [==============================] - 18s 29ms/step - loss: 0.7137 - accuracy: 0.7541 - val_loss: 0.5079 - val_accuracy: 0.8282\n",
      "238\n",
      "600/600 [==============================] - 18s 29ms/step - loss: 0.7179 - accuracy: 0.7565 - val_loss: 0.5082 - val_accuracy: 0.8269\n",
      "240\n",
      "600/600 [==============================] - 18s 29ms/step - loss: 0.7069 - accuracy: 0.7604 - val_loss: 0.5675 - val_accuracy: 0.7927\n",
      "242\n",
      "600/600 [==============================] - 18s 29ms/step - loss: 0.7169 - accuracy: 0.7563 - val_loss: 0.4997 - val_accuracy: 0.8242\n",
      "244\n",
      "600/600 [==============================] - 18s 29ms/step - loss: 0.6863 - accuracy: 0.7656 - val_loss: 0.5467 - val_accuracy: 0.8053\n",
      "246\n",
      "600/600 [==============================] - 18s 29ms/step - loss: 0.7221 - accuracy: 0.7526 - val_loss: 0.5306 - val_accuracy: 0.8122\n",
      "248\n",
      "600/600 [==============================] - 18s 29ms/step - loss: 0.7328 - accuracy: 0.7532 - val_loss: 0.5161 - val_accuracy: 0.8184\n",
      "250\n",
      "600/600 [==============================] - 19s 31ms/step - loss: 0.7178 - accuracy: 0.7567 - val_loss: 0.5577 - val_accuracy: 0.8048\n"
     ]
    }
   ],
   "source": [
    "for i in range(200,251,2):\n",
    "    def custom_activation(x):\n",
    "        k1=1/i\n",
    "        k0=0\n",
    "        return (k1*x)+k0\n",
    "\n",
    "    get_custom_objects().update({'custom_activation': Activation(custom_activation)})\n",
    "    print(i)\n",
    "\n",
    "    model=Sequential()\n",
    "    model.add(Flatten(input_shape=(28,28,)))\n",
    "    model.add(Dense(1000,activation='custom_activation'))\n",
    "    model.add(Dense(10,activation='softmax'))\n",
    "    model.compile(optimizer=Adam(),loss=SparseCategoricalCrossentropy(),metrics=[\"accuracy\"])\n",
    "    t_history=model.fit(xtrain,ytrain,batch_size=100,epochs=1,validation_data=(xtest,ytest))"
   ]
  },
  {
   "cell_type": "code",
   "execution_count": null,
   "metadata": {},
   "outputs": [],
   "source": []
  },
  {
   "cell_type": "code",
   "execution_count": 82,
   "metadata": {},
   "outputs": [
    {
     "name": "stdout",
     "output_type": "stream",
     "text": [
      "Epoch 1/10\n",
      "600/600 [==============================] - 13s 21ms/step - loss: 0.7318 - accuracy: 0.7574 - val_loss: 0.5264 - val_accuracy: 0.8186\n",
      "Epoch 2/10\n",
      "600/600 [==============================] - 14s 23ms/step - loss: 0.4833 - accuracy: 0.8314 - val_loss: 0.4973 - val_accuracy: 0.8268\n",
      "Epoch 3/10\n",
      "600/600 [==============================] - 15s 25ms/step - loss: 0.4584 - accuracy: 0.8390 - val_loss: 0.5303 - val_accuracy: 0.8198\n",
      "Epoch 4/10\n",
      "600/600 [==============================] - 15s 25ms/step - loss: 0.4509 - accuracy: 0.8440 - val_loss: 0.5271 - val_accuracy: 0.8178\n",
      "Epoch 5/10\n",
      "600/600 [==============================] - 15s 26ms/step - loss: 0.4323 - accuracy: 0.8478 - val_loss: 0.4633 - val_accuracy: 0.8394\n",
      "Epoch 6/10\n",
      "600/600 [==============================] - 15s 25ms/step - loss: 0.4338 - accuracy: 0.8500 - val_loss: 0.5253 - val_accuracy: 0.8102\n",
      "Epoch 7/10\n",
      "600/600 [==============================] - 15s 26ms/step - loss: 0.4294 - accuracy: 0.8510 - val_loss: 0.4941 - val_accuracy: 0.8311\n",
      "Epoch 8/10\n",
      "600/600 [==============================] - 15s 25ms/step - loss: 0.4233 - accuracy: 0.8526 - val_loss: 0.4750 - val_accuracy: 0.8374\n",
      "Epoch 9/10\n",
      "600/600 [==============================] - 14s 24ms/step - loss: 0.4244 - accuracy: 0.8515 - val_loss: 0.4655 - val_accuracy: 0.8395\n",
      "Epoch 10/10\n",
      "600/600 [==============================] - 16s 26ms/step - loss: 0.4130 - accuracy: 0.8547 - val_loss: 0.4728 - val_accuracy: 0.8374\n"
     ]
    }
   ],
   "source": [
    "import tensorflow\n",
    "import pandas as pd\n",
    "from tensorflow.keras import Sequential\n",
    "from tensorflow.keras.layers import Flatten,Dense\n",
    "from tensorflow.keras.optimizers import Adam\n",
    "from tensorflow.keras.losses import SparseCategoricalCrossentropy\n",
    "from tensorflow.keras.datasets import fashion_mnist\n",
    "data=fashion_mnist.load_data()\n",
    "\n",
    "((xtrain,ytrain),(xtest,ytest))=data\n",
    "\n",
    "\n",
    "def custom_activation(x):\n",
    "    k1=1/222\n",
    "    k0=0\n",
    "    return (k1*x)+k0\n",
    "\n",
    "get_custom_objects().update({'custom_activation': Activation(custom_activation)})\n",
    "model=Sequential()\n",
    "model.add(Flatten(input_shape=(28,28,)))\n",
    "model.add(Dense(1000,activation='custom_activation'))\n",
    "model.add(Dense(10,activation='softmax'))\n",
    "model.compile(optimizer=Adam(),loss=SparseCategoricalCrossentropy(),metrics=[\"accuracy\"])\n",
    "t_history=model.fit(xtrain,ytrain,batch_size=100,epochs=10,validation_data=(xtest,ytest))"
   ]
  },
  {
   "cell_type": "code",
   "execution_count": 83,
   "metadata": {},
   "outputs": [
    {
     "data": {
      "text/plain": [
       "<matplotlib.legend.Legend at 0x18230645190>"
      ]
     },
     "execution_count": 83,
     "metadata": {},
     "output_type": "execute_result"
    },
    {
     "data": {
      "image/png": "[encoded data removed]",
      "text/plain": [
       "<Figure size 432x288 with 1 Axes>"
      ]
     },
     "metadata": {
      "needs_background": "light"
     },
     "output_type": "display_data"
    }
   ],
   "source": [
    "from matplotlib import pyplot as plt\n",
    "h_data=t_history.history\n",
    "plt.plot(h_data['accuracy'],label='accuracy')\n",
    "plt.plot(h_data['val_accuracy'],label='val_accuracy')\n",
    "plt.xlabel('epochs')\n",
    "plt.ylabel('accuracy')\n",
    "plt.legend()"
   ]
  },
  {
   "cell_type": "code",
   "execution_count": 84,
   "metadata": {},
   "outputs": [
    {
     "data": {
      "text/plain": [
       "<matplotlib.legend.Legend at 0x1822acaacd0>"
      ]
     },
     "execution_count": 84,
     "metadata": {},
     "output_type": "execute_result"
    },
    {
     "data": {
      "image/png": "[encoded data removed]",
      "text/plain": [
       "<Figure size 432x288 with 1 Axes>"
      ]
     },
     "metadata": {
      "needs_background": "light"
     },
     "output_type": "display_data"
    }
   ],
   "source": [
    "from matplotlib import pyplot as plt\n",
    "plt.plot(h_data['loss'],label='loss')\n",
    "plt.plot(h_data['val_loss'],label='val_loss')\n",
    "plt.xlabel('epochs')\n",
    "plt.ylabel('loss value')\n",
    "plt.legend()"
   ]
  },
  {
   "cell_type": "code",
   "execution_count": 1,
   "metadata": {},
   "outputs": [
    {
     "ename": "NameError",
     "evalue": "name 'data' is not defined",
     "output_type": "error",
     "traceback": [
      "\u001b[1;31m---------------------------------------------------------------------------\u001b[0m",
      "\u001b[1;31mNameError\u001b[0m                                 Traceback (most recent call last)",
      "\u001b[1;32m<ipython-input-1-304fa4ce4ebd>\u001b[0m in \u001b[0;36m<module>\u001b[1;34m\u001b[0m\n\u001b[1;32m----> 1\u001b[1;33m \u001b[0mdata\u001b[0m\u001b[1;33m.\u001b[0m\u001b[0mhead\u001b[0m\u001b[1;33m(\u001b[0m\u001b[1;33m)\u001b[0m\u001b[1;33m\u001b[0m\u001b[1;33m\u001b[0m\u001b[0m\n\u001b[0m",
      "\u001b[1;31mNameError\u001b[0m: name 'data' is not defined"
     ]
    }
   ],
   "source": []
  },
  {
   "cell_type": "code",
   "execution_count": null,
   "metadata": {},
   "outputs": [],
   "source": []
  }
 ],
 "metadata": {
  "kernelspec": {
   "display_name": "Python 3",
   "language": "python",
   "name": "python3"
  },
  "language_info": {
   "codemirror_mode": {
    "name": "ipython",
    "version": 3
   },
   "file_extension": ".py",
   "mimetype": "text/x-python",
   "name": "python",
   "nbconvert_exporter": "python",
   "pygments_lexer": "ipython3",
   "version": "3.8.5"
  }
 },
 "nbformat": 4,
 "nbformat_minor": 4
}

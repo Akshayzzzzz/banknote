{
 "cells": [
  {
   "cell_type": "markdown",
   "metadata": {},
   "source": [
    "## BANKNOTE"
   ]
  },
  {
   "cell_type": "code",
   "execution_count": 1,
   "metadata": {},
   "outputs": [
    {
     "data": {
      "application/javascript": [
       "\n",
       "        if (window._pyforest_update_imports_cell) { window._pyforest_update_imports_cell('import pandas as pd'); }\n",
       "    "
      ],
      "text/plain": [
       "<IPython.core.display.Javascript object>"
      ]
     },
     "metadata": {},
     "output_type": "display_data"
    }
   ],
   "source": [
    "data=pd.read_csv('BankNote.csv')\n",
    "from pyforest import*"
   ]
  },
  {
   "cell_type": "code",
   "execution_count": 2,
   "metadata": {},
   "outputs": [
    {
     "data": {
      "text/plain": [
       "['from sklearn.ensemble import GradientBoostingRegressor',\n",
       " 'import plotly.express as px',\n",
       " 'import plotly.graph_objs as go',\n",
       " 'import matplotlib.pyplot as plt',\n",
       " 'from scipy import signal as sg',\n",
       " 'from sklearn.linear_model import Ridge',\n",
       " 'import sys',\n",
       " 'import fbprophet',\n",
       " 'import bokeh',\n",
       " 'from PIL import Image',\n",
       " 'import imutils',\n",
       " 'from openpyxl import load_workbook',\n",
       " 'from sklearn.feature_extraction.text import TfidfVectorizer',\n",
       " 'import skimage',\n",
       " 'import torch',\n",
       " 'import textblob',\n",
       " 'from xlrd import open_workbook',\n",
       " 'from sklearn.preprocessing import OneHotEncoder',\n",
       " 'import statistics',\n",
       " 'from sklearn.model_selection import RandomizedSearchCV',\n",
       " 'from sklearn.cluster import KMeans',\n",
       " 'import seaborn as sns',\n",
       " 'from sklearn.linear_model import LogisticRegression',\n",
       " 'from sklearn.linear_model import ElasticNetCV',\n",
       " 'import sklearn',\n",
       " 'from sklearn.preprocessing import PolynomialFeatures',\n",
       " 'from sklearn.linear_model import LinearRegression',\n",
       " 'from sklearn.linear_model import Lasso',\n",
       " 'import fastai',\n",
       " 'from sklearn.model_selection import train_test_split',\n",
       " 'from sklearn.ensemble import RandomForestRegressor',\n",
       " 'import matplotlib as mpl',\n",
       " 'from sklearn import svm',\n",
       " 'from sklearn.model_selection import KFold',\n",
       " 'import keras',\n",
       " 'import plotly as py',\n",
       " 'import pydot',\n",
       " 'import altair as alt',\n",
       " 'from sklearn.linear_model import ElasticNet',\n",
       " 'import nltk',\n",
       " 'import cv2',\n",
       " 'import statsmodels.api as sm',\n",
       " 'from sklearn.preprocessing import MinMaxScaler',\n",
       " 'from sklearn.ensemble import RandomForestClassifier',\n",
       " 'from sklearn.ensemble import GradientBoostingClassifier',\n",
       " 'import dash',\n",
       " 'from sklearn import metrics',\n",
       " 'import datetime as dt',\n",
       " 'from sklearn.feature_extraction.text import CountVectorizer',\n",
       " 'import xgboost as xgb',\n",
       " 'from statsmodels.tsa.arima_model import ARIMA',\n",
       " 'import lightgbm as lgb',\n",
       " 'import tensorflow as tf',\n",
       " 'import re',\n",
       " 'from fbprophet import Prophet',\n",
       " 'from pyspark import SparkContext',\n",
       " 'from sklearn.model_selection import StratifiedKFold',\n",
       " 'from sklearn.decomposition import PCA',\n",
       " 'import glob',\n",
       " 'from sklearn.model_selection import GridSearchCV',\n",
       " 'from sklearn.preprocessing import StandardScaler',\n",
       " 'import awswrangler as wr',\n",
       " 'from sklearn.manifold import TSNE',\n",
       " 'from sklearn.model_selection import cross_val_score',\n",
       " 'import spacy',\n",
       " 'import numpy as np',\n",
       " 'from scipy import stats',\n",
       " 'import gensim',\n",
       " 'from sklearn.linear_model import RidgeCV',\n",
       " 'from sklearn.preprocessing import LabelEncoder',\n",
       " 'from sklearn.impute import SimpleImputer',\n",
       " 'from sklearn.linear_model import LassoCV',\n",
       " 'from dask import dataframe as dd',\n",
       " 'from sklearn.preprocessing import RobustScaler',\n",
       " 'import pickle',\n",
       " 'from pathlib import Path',\n",
       " 'import tqdm',\n",
       " 'import os']"
      ]
     },
     "execution_count": 2,
     "metadata": {},
     "output_type": "execute_result"
    }
   ],
   "source": [
    "lazy_imports()"
   ]
  },
  {
   "cell_type": "code",
   "execution_count": 3,
   "metadata": {},
   "outputs": [
    {
     "data": {
      "application/javascript": [
       "\n",
       "        if (window._pyforest_update_imports_cell) { window._pyforest_update_imports_cell('import pandas as pd'); }\n",
       "    "
      ],
      "text/plain": [
       "<IPython.core.display.Javascript object>"
      ]
     },
     "metadata": {},
     "output_type": "display_data"
    }
   ],
   "source": [
    "df=pd.read_csv('BankNote.csv')"
   ]
  },
  {
   "cell_type": "code",
   "execution_count": 4,
   "metadata": {},
   "outputs": [
    {
     "data": {
      "text/html": [
       "<div>\n",
       "<style scoped>\n",
       "    .dataframe tbody tr th:only-of-type {\n",
       "        vertical-align: middle;\n",
       "    }\n",
       "\n",
       "    .dataframe tbody tr th {\n",
       "        vertical-align: top;\n",
       "    }\n",
       "\n",
       "    .dataframe thead th {\n",
       "        text-align: right;\n",
       "    }\n",
       "</style>\n",
       "<table border=\"1\" class=\"dataframe\">\n",
       "  <thead>\n",
       "    <tr style=\"text-align: right;\">\n",
       "      <th></th>\n",
       "      <th>variance</th>\n",
       "      <th>skewness</th>\n",
       "      <th>curtosis</th>\n",
       "      <th>entropy</th>\n",
       "      <th>class</th>\n",
       "    </tr>\n",
       "  </thead>\n",
       "  <tbody>\n",
       "    <tr>\n",
       "      <th>0</th>\n",
       "      <td>3.62160</td>\n",
       "      <td>8.6661</td>\n",
       "      <td>-2.8073</td>\n",
       "      <td>-0.44699</td>\n",
       "      <td>0</td>\n",
       "    </tr>\n",
       "    <tr>\n",
       "      <th>1</th>\n",
       "      <td>4.54590</td>\n",
       "      <td>8.1674</td>\n",
       "      <td>-2.4586</td>\n",
       "      <td>-1.46210</td>\n",
       "      <td>0</td>\n",
       "    </tr>\n",
       "    <tr>\n",
       "      <th>2</th>\n",
       "      <td>3.86600</td>\n",
       "      <td>-2.6383</td>\n",
       "      <td>1.9242</td>\n",
       "      <td>0.10645</td>\n",
       "      <td>0</td>\n",
       "    </tr>\n",
       "    <tr>\n",
       "      <th>3</th>\n",
       "      <td>3.45660</td>\n",
       "      <td>9.5228</td>\n",
       "      <td>-4.0112</td>\n",
       "      <td>-3.59440</td>\n",
       "      <td>0</td>\n",
       "    </tr>\n",
       "    <tr>\n",
       "      <th>4</th>\n",
       "      <td>0.32924</td>\n",
       "      <td>-4.4552</td>\n",
       "      <td>4.5718</td>\n",
       "      <td>-0.98880</td>\n",
       "      <td>0</td>\n",
       "    </tr>\n",
       "  </tbody>\n",
       "</table>\n",
       "</div>"
      ],
      "text/plain": [
       "   variance  skewness  curtosis  entropy  class\n",
       "0   3.62160    8.6661   -2.8073 -0.44699      0\n",
       "1   4.54590    8.1674   -2.4586 -1.46210      0\n",
       "2   3.86600   -2.6383    1.9242  0.10645      0\n",
       "3   3.45660    9.5228   -4.0112 -3.59440      0\n",
       "4   0.32924   -4.4552    4.5718 -0.98880      0"
      ]
     },
     "execution_count": 4,
     "metadata": {},
     "output_type": "execute_result"
    }
   ],
   "source": [
    "df.head()"
   ]
  },
  {
   "cell_type": "code",
   "execution_count": 21,
   "metadata": {},
   "outputs": [],
   "source": [
    "x=df.drop('class', axis=1)\n",
    "y=df['class']"
   ]
  },
  {
   "cell_type": "code",
   "execution_count": 43,
   "metadata": {},
   "outputs": [
    {
     "data": {
      "application/javascript": [
       "\n",
       "        if (window._pyforest_update_imports_cell) { window._pyforest_update_imports_cell('import pandas as pd\\nimport matplotlib.pyplot as plt\\nfrom sklearn.model_selection import train_test_split\\nimport seaborn as sns'); }\n",
       "    "
      ],
      "text/plain": [
       "<IPython.core.display.Javascript object>"
      ]
     },
     "metadata": {},
     "output_type": "display_data"
    }
   ],
   "source": [
    "x_train,x_test,y_train,y_test=train_test_split(x,y,test_size=.20, random_state=1)"
   ]
  },
  {
   "cell_type": "code",
   "execution_count": 23,
   "metadata": {},
   "outputs": [],
   "source": [
    "from sklearn.preprocessing import StandardScaler\n",
    "\n",
    "scaler=StandardScaler()\n",
    "\n",
    "x=scaler.fit_transform(x)\n",
    "\n",
    "x_train=scaler.fit_transform(x_train)\n",
    "x_test=scaler.fit_transform(x_test)"
   ]
  },
  {
   "cell_type": "code",
   "execution_count": 24,
   "metadata": {},
   "outputs": [
    {
     "data": {
      "text/plain": [
       "array([[-1.58438248,  0.1072115 , -0.14276339,  0.03334576],\n",
       "       [-1.08829139, -2.53123321,  2.67783284, -0.35092979],\n",
       "       [ 1.13672843, -0.15348755, -0.16820608,  0.86368769],\n",
       "       ...,\n",
       "       [-1.6900361 ,  0.72314447, -0.19588896, -2.05114485],\n",
       "       [ 0.57766241,  0.02698182,  0.1851622 ,  0.52080477],\n",
       "       [-0.9644631 ,  0.30908695, -0.49734797, -0.03521515]])"
      ]
     },
     "execution_count": 24,
     "metadata": {},
     "output_type": "execute_result"
    }
   ],
   "source": [
    "x_train"
   ]
  },
  {
   "cell_type": "code",
   "execution_count": 25,
   "metadata": {},
   "outputs": [
    {
     "data": {
      "text/plain": [
       "1226    1\n",
       "1085    1\n",
       "148     0\n",
       "1178    1\n",
       "478     0\n",
       "       ..\n",
       "715     0\n",
       "905     1\n",
       "1096    1\n",
       "235     0\n",
       "1061    1\n",
       "Name: class, Length: 1097, dtype: int64"
      ]
     },
     "execution_count": 25,
     "metadata": {},
     "output_type": "execute_result"
    }
   ],
   "source": [
    "y_train"
   ]
  },
  {
   "cell_type": "code",
   "execution_count": null,
   "metadata": {},
   "outputs": [],
   "source": []
  },
  {
   "cell_type": "markdown",
   "metadata": {},
   "source": [
    "## Logistic Regression"
   ]
  },
  {
   "cell_type": "code",
   "execution_count": 26,
   "metadata": {},
   "outputs": [],
   "source": [
    "from sklearn.linear_model import LogisticRegression\n",
    "from sklearn.model_selection import cross_val_score\n",
    "from sklearn.metrics import accuracy_score"
   ]
  },
  {
   "cell_type": "code",
   "execution_count": 29,
   "metadata": {},
   "outputs": [
    {
     "name": "stdout",
     "output_type": "stream",
     "text": [
      "Accuracies: \n",
      " [0.98181818 0.99090909 0.98181818 0.99090909 0.99090909 0.99090909\n",
      " 0.96363636 0.99082569 0.97247706 0.98165138]\n"
     ]
    }
   ],
   "source": [
    "classifier=LogisticRegression(solver='liblinear',random_state=1)\n",
    "\n",
    "classifier.fit(x_train,y_train)\n",
    "\n",
    "accuracies=cross_val_score(estimator=classifier, X=x_train,y=y_train,cv=10)\n",
    "\n",
    "print('Accuracies: \\n', accuracies)"
   ]
  },
  {
   "cell_type": "code",
   "execution_count": 30,
   "metadata": {},
   "outputs": [
    {
     "name": "stdout",
     "output_type": "stream",
     "text": [
      "Mean Accuracy: \n",
      " 0.9835863219349459\n"
     ]
    }
   ],
   "source": [
    "print('Mean Accuracy: \\n', accuracies.mean()) "
   ]
  },
  {
   "cell_type": "code",
   "execution_count": 34,
   "metadata": {},
   "outputs": [],
   "source": [
    "classifier_pred=classifier.predict(x_test)"
   ]
  },
  {
   "cell_type": "code",
   "execution_count": 35,
   "metadata": {},
   "outputs": [
    {
     "data": {
      "text/plain": [
       "array([1, 0, 1, 1, 0, 0, 0, 0, 0, 0, 0, 1, 0, 1, 1, 0, 0, 0, 0, 0, 1, 0,\n",
       "       0, 1, 1, 1, 0, 0, 1, 0, 0, 0, 1, 1, 0, 1, 1, 0, 1, 0, 0, 0, 0, 0,\n",
       "       1, 1, 0, 0, 0, 1, 1, 0, 1, 0, 0, 1, 1, 0, 0, 1, 1, 1, 1, 1, 1, 1,\n",
       "       0, 1, 1, 0, 0, 1, 1, 0, 1, 0, 0, 1, 1, 0, 0, 0, 1, 1, 0, 0, 0, 1,\n",
       "       0, 0, 0, 0, 1, 0, 1, 1, 1, 1, 0, 1, 1, 1, 0, 1, 0, 0, 0, 0, 0, 0,\n",
       "       0, 1, 1, 0, 1, 0, 1, 0, 0, 0, 1, 0, 1, 1, 0, 1, 1, 1, 1, 1, 1, 0,\n",
       "       0, 1, 0, 0, 0, 1, 0, 0, 1, 0, 0, 1, 0, 0, 1, 0, 0, 1, 0, 0, 0, 1,\n",
       "       0, 0, 1, 1, 1, 0, 0, 1, 0, 0, 0, 1, 1, 0, 0, 1, 0, 1, 0, 0, 0, 0,\n",
       "       1, 0, 0, 0, 1, 0, 0, 1, 0, 1, 0, 1, 1, 1, 1, 1, 1, 0, 1, 1, 1, 0,\n",
       "       0, 1, 0, 1, 0, 0, 1, 1, 0, 1, 1, 0, 0, 0, 0, 0, 1, 0, 0, 1, 1, 1,\n",
       "       1, 0, 1, 1, 1, 1, 0, 0, 0, 0, 1, 1, 0, 0, 0, 0, 1, 1, 1, 1, 0, 1,\n",
       "       0, 0, 0, 1, 1, 1, 0, 0, 1, 0, 0, 1, 1, 1, 0, 0, 0, 0, 0, 1, 0, 0,\n",
       "       0, 0, 0, 1, 0, 0, 0, 1, 0, 1, 0], dtype=int64)"
      ]
     },
     "execution_count": 35,
     "metadata": {},
     "output_type": "execute_result"
    }
   ],
   "source": [
    "classifier_pred"
   ]
  },
  {
   "cell_type": "code",
   "execution_count": 40,
   "metadata": {},
   "outputs": [
    {
     "data": {
      "application/javascript": [
       "\n",
       "        if (window._pyforest_update_imports_cell) { window._pyforest_update_imports_cell('import pandas as pd\\nimport matplotlib.pyplot as plt\\nfrom sklearn.model_selection import train_test_split\\nimport seaborn as sns'); }\n",
       "    "
      ],
      "text/plain": [
       "<IPython.core.display.Javascript object>"
      ]
     },
     "metadata": {},
     "output_type": "display_data"
    },
    {
     "data": {
      "application/javascript": [
       "\n",
       "        if (window._pyforest_update_imports_cell) { window._pyforest_update_imports_cell('import pandas as pd\\nimport matplotlib.pyplot as plt\\nfrom sklearn.model_selection import train_test_split\\nimport seaborn as sns'); }\n",
       "    "
      ],
      "text/plain": [
       "<IPython.core.display.Javascript object>"
      ]
     },
     "metadata": {},
     "output_type": "display_data"
    },
    {
     "data": {
      "text/plain": [
       "<AxesSubplot:>"
      ]
     },
     "execution_count": 40,
     "metadata": {},
     "output_type": "execute_result"
    },
    {
     "data": {
      "image/png": "[encoded data removed]",
      "text/plain": [
       "<Figure size 504x360 with 2 Axes>"
      ]
     },
     "metadata": {
      "needs_background": "light"
     },
     "output_type": "display_data"
    }
   ],
   "source": [
    "from sklearn import metrics\n",
    "\n",
    "cm=metrics.confusion_matrix(y_test,classifier_pred, labels=[0,1] )\n",
    "\n",
    "df_cm=pd.DataFrame(cm, index=[i for i in [0,1 ]], columns=[i for i in ['Predicted 0','Predicted 1' ]] )\n",
    "\n",
    "plt.figure(figsize=(7,5))\n",
    "sns.heatmap(df_cm,annot=True)"
   ]
  },
  {
   "cell_type": "markdown",
   "metadata": {},
   "source": [
    "CUSTOM ACTIVATION FUNCTION =>K0+K1X"
   ]
  },
  {
   "cell_type": "code",
   "execution_count": 72,
   "metadata": {},
   "outputs": [
    {
     "name": "stdout",
     "output_type": "stream",
     "text": [
      "Model: \"sequential_1\"\n",
      "_________________________________________________________________\n",
      "Layer (type)                 Output Shape              Param #   \n",
      "=================================================================\n",
      "dense_3 (Dense)              (None, 1000)              5000      \n",
      "_________________________________________________________________\n",
      "dense_4 (Dense)              (None, 1000)              1001000   \n",
      "_________________________________________________________________\n",
      "dense_5 (Dense)              (None, 3)                 3003      \n",
      "=================================================================\n",
      "Total params: 1,009,003\n",
      "Trainable params: 1,009,003\n",
      "Non-trainable params: 0\n",
      "_________________________________________________________________\n"
     ]
    }
   ],
   "source": [
    "def custom_activation(x):\n",
    "    for i in range(len(data)):\n",
    "        if len(data)*(2/3)<=math.e**i:\n",
    "            k0=math.e\n",
    "            k1=(k0**(i-1)*2)\n",
    "            break\n",
    "    return (k1*x)+k0\n",
    "\n",
    "get_custom_objects().update({'custom_activation': Activation(custom_activation)})\n",
    "\n",
    "model = Sequential()\n",
    "\n",
    "model.add(Dense(1000, input_dim=4))\n",
    "model.add(Dense(1000,activation='custom_activation'))\n",
    "model.add(Dense(3,activation='softmax'))\n",
    "model.summary()"
   ]
  },
  {
   "cell_type": "code",
   "execution_count": 69,
   "metadata": {},
   "outputs": [
    {
     "name": "stdout",
     "output_type": "stream",
     "text": [
      "Epoch 1/30\n",
      "4/4 [==============================] - 1s 188ms/step - loss: 4.0436 - accuracy: 0.9531 - val_loss: 3.0186 - val_accuracy: 0.9709\n",
      "Epoch 2/30\n",
      "4/4 [==============================] - 0s 43ms/step - loss: 2.0044 - accuracy: 0.9753 - val_loss: 2.5259 - val_accuracy: 0.9745\n",
      "Epoch 3/30\n",
      "4/4 [==============================] - 0s 52ms/step - loss: 1.6715 - accuracy: 0.9816 - val_loss: 0.7349 - val_accuracy: 0.9927\n",
      "Epoch 4/30\n",
      "4/4 [==============================] - 0s 50ms/step - loss: 0.4061 - accuracy: 0.9867 - val_loss: 1.0718 - val_accuracy: 0.9855\n",
      "Epoch 5/30\n",
      "4/4 [==============================] - 0s 52ms/step - loss: 1.1162 - accuracy: 0.9853 - val_loss: 0.6294 - val_accuracy: 0.9927\n",
      "Epoch 6/30\n",
      "4/4 [==============================] - 0s 54ms/step - loss: 0.5225 - accuracy: 0.9871 - val_loss: 0.4876 - val_accuracy: 0.9891\n",
      "Epoch 7/30\n",
      "4/4 [==============================] - 0s 51ms/step - loss: 0.4736 - accuracy: 0.9873 - val_loss: 0.3673 - val_accuracy: 0.9818\n",
      "Epoch 8/30\n",
      "4/4 [==============================] - 0s 57ms/step - loss: 0.3182 - accuracy: 0.9861 - val_loss: 0.7210 - val_accuracy: 0.9855\n",
      "Epoch 9/30\n",
      "4/4 [==============================] - 0s 54ms/step - loss: 0.4317 - accuracy: 0.9871 - val_loss: 0.7252 - val_accuracy: 0.9927\n",
      "Epoch 10/30\n",
      "4/4 [==============================] - 0s 48ms/step - loss: 0.4523 - accuracy: 0.9866 - val_loss: 1.1624 - val_accuracy: 0.9818\n",
      "Epoch 11/30\n",
      "4/4 [==============================] - 0s 50ms/step - loss: 0.5328 - accuracy: 0.9912 - val_loss: 0.5386 - val_accuracy: 0.9818\n",
      "Epoch 12/30\n",
      "4/4 [==============================] - 0s 47ms/step - loss: 0.4395 - accuracy: 0.9884 - val_loss: 0.4251 - val_accuracy: 0.9855\n",
      "Epoch 13/30\n",
      "4/4 [==============================] - 0s 51ms/step - loss: 0.3442 - accuracy: 0.9877 - val_loss: 0.3520 - val_accuracy: 0.9818\n",
      "Epoch 14/30\n",
      "4/4 [==============================] - 0s 49ms/step - loss: 0.2538 - accuracy: 0.9891 - val_loss: 0.2571 - val_accuracy: 0.9927\n",
      "Epoch 15/30\n",
      "4/4 [==============================] - 0s 46ms/step - loss: 0.2931 - accuracy: 0.9855 - val_loss: 0.2294 - val_accuracy: 0.9927\n",
      "Epoch 16/30\n",
      "4/4 [==============================] - 0s 55ms/step - loss: 0.2887 - accuracy: 0.9882 - val_loss: 0.1818 - val_accuracy: 0.9927\n",
      "Epoch 17/30\n",
      "4/4 [==============================] - 0s 40ms/step - loss: 0.1804 - accuracy: 0.9891 - val_loss: 0.2285 - val_accuracy: 0.9891\n",
      "Epoch 18/30\n",
      "4/4 [==============================] - 0s 40ms/step - loss: 0.2167 - accuracy: 0.9899 - val_loss: 0.2190 - val_accuracy: 0.9927\n",
      "Epoch 19/30\n",
      "4/4 [==============================] - 0s 43ms/step - loss: 0.1465 - accuracy: 0.9897 - val_loss: 0.2243 - val_accuracy: 0.9818\n",
      "Epoch 20/30\n",
      "4/4 [==============================] - 0s 50ms/step - loss: 0.1819 - accuracy: 0.9843 - val_loss: 0.1564 - val_accuracy: 0.9927\n",
      "Epoch 21/30\n",
      "4/4 [==============================] - 0s 44ms/step - loss: 0.1718 - accuracy: 0.9889 - val_loss: 0.1930 - val_accuracy: 0.9891\n",
      "Epoch 22/30\n",
      "4/4 [==============================] - 0s 43ms/step - loss: 0.1012 - accuracy: 0.9894 - val_loss: 0.2042 - val_accuracy: 0.9855\n",
      "Epoch 23/30\n",
      "4/4 [==============================] - 0s 46ms/step - loss: 0.1022 - accuracy: 0.9890 - val_loss: 0.1366 - val_accuracy: 0.9891\n",
      "Epoch 24/30\n",
      "4/4 [==============================] - 0s 43ms/step - loss: 0.0702 - accuracy: 0.9917 - val_loss: 0.1329 - val_accuracy: 0.9927\n",
      "Epoch 25/30\n",
      "4/4 [==============================] - 0s 44ms/step - loss: 0.1125 - accuracy: 0.9916 - val_loss: 0.1456 - val_accuracy: 0.9891\n",
      "Epoch 26/30\n",
      "4/4 [==============================] - 0s 46ms/step - loss: 0.1168 - accuracy: 0.9880 - val_loss: 0.3072 - val_accuracy: 0.9709\n",
      "Epoch 27/30\n",
      "4/4 [==============================] - 0s 47ms/step - loss: 0.1792 - accuracy: 0.9847 - val_loss: 0.4011 - val_accuracy: 0.9745\n",
      "Epoch 28/30\n",
      "4/4 [==============================] - 0s 43ms/step - loss: 0.2866 - accuracy: 0.9861 - val_loss: 0.2738 - val_accuracy: 0.9927\n",
      "Epoch 29/30\n",
      "4/4 [==============================] - 0s 43ms/step - loss: 0.1924 - accuracy: 0.9855 - val_loss: 0.2602 - val_accuracy: 0.9891\n",
      "Epoch 30/30\n",
      "4/4 [==============================] - 0s 49ms/step - loss: 0.3004 - accuracy: 0.9893 - val_loss: 0.1373 - val_accuracy: 0.9891\n"
     ]
    }
   ],
   "source": [
    "import pandas as pd\n",
    "model.compile(optimizer=Adam(),loss=SparseCategoricalCrossentropy(),metrics=[\"accuracy\"])\n",
    "t_history=model.fit(x_train,y_train,batch_size=300,epochs=30,validation_data=(x_test,y_test))"
   ]
  },
  {
   "cell_type": "code",
   "execution_count": 70,
   "metadata": {},
   "outputs": [
    {
     "data": {
      "text/plain": [
       "<matplotlib.legend.Legend at 0x29b1ae915e0>"
      ]
     },
     "execution_count": 70,
     "metadata": {},
     "output_type": "execute_result"
    },
    {
     "data": {
      "image/png": "[encoded data removed]",
      "text/plain": [
       "<Figure size 432x288 with 1 Axes>"
      ]
     },
     "metadata": {
      "needs_background": "light"
     },
     "output_type": "display_data"
    }
   ],
   "source": [
    "from matplotlib import pyplot as plt\n",
    "h_data=t_history.history\n",
    "plt.plot(h_data['accuracy'],label='accuracy')\n",
    "plt.plot(h_data['val_accuracy'],label='val_accuracy')\n",
    "plt.xlabel('epochs')\n",
    "plt.ylabel('accuracy')\n",
    "plt.legend()"
   ]
  },
  {
   "cell_type": "code",
   "execution_count": 71,
   "metadata": {},
   "outputs": [
    {
     "data": {
      "text/plain": [
       "<matplotlib.legend.Legend at 0x29b1aef4760>"
      ]
     },
     "execution_count": 71,
     "metadata": {},
     "output_type": "execute_result"
    },
    {
     "data": {
      "image/png": "[encoded data removed]",
      "text/plain": [
       "<Figure size 432x288 with 1 Axes>"
      ]
     },
     "metadata": {
      "needs_background": "light"
     },
     "output_type": "display_data"
    }
   ],
   "source": [
    "from matplotlib import pyplot as plt\n",
    "plt.plot(h_data['loss'],label='loss')\n",
    "plt.plot(h_data['val_loss'],label='val_loss')\n",
    "plt.xlabel('epochs')\n",
    "plt.ylabel('loss value')\n",
    "plt.legend()"
   ]
  },
  {
   "cell_type": "code",
   "execution_count": null,
   "metadata": {},
   "outputs": [],
   "source": []
  },
  {
   "cell_type": "code",
   "execution_count": null,
   "metadata": {},
   "outputs": [],
   "source": []
  },
  {
   "cell_type": "code",
   "execution_count": null,
   "metadata": {},
   "outputs": [],
   "source": []
  },
  {
   "cell_type": "code",
   "execution_count": null,
   "metadata": {},
   "outputs": [],
   "source": []
  },
  {
   "cell_type": "code",
   "execution_count": null,
   "metadata": {},
   "outputs": [],
   "source": []
  },
  {
   "cell_type": "code",
   "execution_count": null,
   "metadata": {},
   "outputs": [],
   "source": []
  }
 ],
 "metadata": {
  "kernelspec": {
   "display_name": "Python 3",
   "language": "python",
   "name": "python3"
  },
  "language_info": {
   "codemirror_mode": {
    "name": "ipython",
    "version": 3
   },
   "file_extension": ".py",
   "mimetype": "text/x-python",
   "name": "python",
   "nbconvert_exporter": "python",
   "pygments_lexer": "ipython3",
   "version": "3.8.5"
  }
 },
 "nbformat": 4,
 "nbformat_minor": 4
}
